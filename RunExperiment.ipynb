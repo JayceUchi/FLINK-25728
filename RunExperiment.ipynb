{
 "cells": [
  {
   "cell_type": "markdown",
   "metadata": {},
   "source": [
    "### FLINK-25728 Reproduction\n",
    "---  \n",
    "#### Load Session Data"
   ]
  },
  {
   "cell_type": "code",
   "execution_count": null,
   "metadata": {
    "vscode": {
     "languageId": "plaintext"
    }
   },
   "outputs": [],
   "source": [
    "import scripts.session as session\n",
    "\n",
    "session_data = session.load()"
   ]
  },
  {
   "cell_type": "markdown",
   "metadata": {},
   "source": [
    "#### Copy the code repo to node\n"
   ]
  },
  {
   "cell_type": "code",
   "execution_count": null,
   "metadata": {
    "vscode": {
     "languageId": "plaintext"
    }
   },
   "outputs": [],
   "source": [
    "from chi import ssh\n",
    "import scripts.ssh_helper as ssh_helper"
   ]
  },
  {
   "cell_type": "code",
   "execution_count": null,
   "metadata": {
    "vscode": {
     "languageId": "plaintext"
    }
   },
   "outputs": [],
   "source": [
    "# put the trovi to node\n",
    "\n",
    "with ssh.Remote(session_data[\"floating_ip\"]) as conn:\n",
    "    conn.run('sudo mkdir -p /mnt/flink-exp; sudo chown $USER -R /mnt; cd /mnt/flink-exp; rm -rf /mnt/flink-exp/flink_bug_reproduce; mkdir -p /mnt/spark-exp; cd /mnt/flink-exp; git clone https://github.com/wpc009/flink-mirror.git; cd flink-mirror; git checkout FLINK-25728')"
   ]
  },
  {
   "cell_type": "markdown",
   "metadata": {},
   "source": [
    "#### Set up the Flink evironment"
   ]
  },
  {
   "cell_type": "code",
   "execution_count": null,
   "metadata": {
    "vscode": {
     "languageId": "plaintext"
    }
   },
   "outputs": [],
   "source": [
    "with ssh.Remote(session_data[\"floating_ip\"]) as conn:\n",
    "    conn.run('cd /mnt/flink-exp/flink-mirror; mvn clean compile -B -fn -DskipTests 2>&1 | tee build.log')"
   ]
  },
  {
   "cell_type": "markdown",
   "metadata": {},
   "source": [
    "You can see from the build log that the project fails to be built. The error of building the project occurs on the project \"Test Utils\" which prevents us from running any customized tests. But this problem doesn't happen on the latest release of Flink system. So, I'm still working on this problem."
   ]
  },
  {
   "cell_type": "code",
   "execution_count": null,
   "metadata": {},
   "outputs": [],
   "source": []
  }
 ],
 "metadata": {
  "kernelspec": {
   "display_name": "Python 3",
   "language": "python",
   "name": "python3"
  },
  "language_info": {
   "codemirror_mode": {
    "name": "ipython",
    "version": 3
   },
   "file_extension": ".py",
   "mimetype": "text/x-python",
   "name": "python",
   "nbconvert_exporter": "python",
   "pygments_lexer": "ipython3",
   "version": "3.8.8"
  }
 },
 "nbformat": 4,
 "nbformat_minor": 2
}
