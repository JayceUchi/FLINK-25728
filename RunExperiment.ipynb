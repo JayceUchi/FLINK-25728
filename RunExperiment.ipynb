{
 "cells": [
  {
   "cell_type": "markdown",
   "metadata": {},
   "source": [
    "### FLINK-25728 Reproduction\n",
    "---  \n",
    "#### Load Session Data"
   ]
  },
  {
   "cell_type": "code",
   "execution_count": null,
   "metadata": {
    "vscode": {
     "languageId": "plaintext"
    }
   },
   "outputs": [],
   "source": [
    "import scripts.session as session\n",
    "\n",
    "session_data = session.load()"
   ]
  },
  {
   "cell_type": "markdown",
   "metadata": {},
   "source": [
    "#### Copy the code repo to node\n"
   ]
  },
  {
   "cell_type": "code",
   "execution_count": null,
   "metadata": {
    "vscode": {
     "languageId": "plaintext"
    }
   },
   "outputs": [],
   "source": [
    "from chi import ssh\n",
    "import scripts.ssh_helper as ssh_helper"
   ]
  },
  {
   "cell_type": "code",
   "execution_count": null,
   "metadata": {
    "vscode": {
     "languageId": "plaintext"
    }
   },
   "outputs": [],
   "source": [
    "# put the trovi to node\n",
    "\n",
    "with ssh.Remote(session_data[\"floating_ip\"]) as conn:\n",
    "    conn.run('sudo mkdir -p /mnt/flink-exp; sudo chown $USER -R /mnt; cd /mnt/flink-exp; rm -rf /mnt/flink-exp/flink_bug_reproduce; mkdir -p /mnt/spark-exp; cd /mnt/flink-exp; git clone https://github.com/wpc009/flink-mirror.git; cd flink-mirror')"
   ]
  },
  {
   "cell_type": "markdown",
   "metadata": {},
   "source": [
    "#### Set up the Flink evironment"
   ]
  },
  {
   "cell_type": "code",
   "execution_count": null,
   "metadata": {
    "vscode": {
     "languageId": "plaintext"
    }
   },
   "outputs": [],
   "source": [
    "with ssh.Remote(session_data[\"floating_ip\"]) as conn:\n",
    "    conn.run('cd /mnt/flink-exp/flink-mirror; bash set_spark_env.sh')"
   ]
  },
  {
   "cell_type": "markdown",
   "metadata": {},
   "source": [
    "#### Run the Reproduction Experiments"
   ]
  },
  {
   "cell_type": "code",
   "execution_count": null,
   "metadata": {
    "vscode": {
     "languageId": "plaintext"
    }
   },
   "outputs": [],
   "source": [
    "with ssh.Remote(session_data[\"floating_ip\"]) as conn:\n",
    "    conn.run('cd /mnt/spark-exp/spark_bug_reproduce; bash reproduce_bug29351.sh')"
   ]
  },
  {
   "cell_type": "markdown",
   "metadata": {},
   "source": [
    "#### Display Reproduction Graph"
   ]
  },
  {
   "cell_type": "code",
   "execution_count": null,
   "metadata": {
    "vscode": {
     "languageId": "plaintext"
    }
   },
   "outputs": [],
   "source": [
    "import os\n",
    "\n",
    "def get_dir(conn, source, target):\n",
    "    ''' Downloads the contents of the source directory from the remote to the target path locally.\n",
    "        All subdirectories in source are created under target.\n",
    "    '''\n",
    "    if not os.path.exists(target):\n",
    "        os.makedirs(target)\n",
    "    \n",
    "    result = conn.run(f'ls -A {source}', hide=True)\n",
    "    for item in result.stdout.splitlines():\n",
    "        remote_path = f\"{source}/{item}\"\n",
    "        local_path = os.path.join(target, item)\n",
    "        \n",
    "        if conn.run(f'test -d {remote_path}', warn=True).ok:\n",
    "            if not os.path.exists(local_path):\n",
    "                os.makedirs(local_path)\n",
    "            get_dir(conn, remote_path, local_path)\n",
    "        else:\n",
    "            conn.get(remote_path, local_path)"
   ]
  },
  {
   "cell_type": "code",
   "execution_count": null,
   "metadata": {
    "vscode": {
     "languageId": "plaintext"
    }
   },
   "outputs": [],
   "source": [
    "from IPython.display import Image\n",
    "\n",
    "# Gather the resulting graph\n",
    "with ssh.Remote(session_data[\"floating_ip\"]) as conn:\n",
    "    conn.run('cd /mnt/spark-exp/spark_bug_reproduce; mkdir bug_plot; mv line_chart.png bug_plot/')\n",
    "    get_dir(conn, \"/mnt/spark-exp/spark_bug_reproduce/bug_plot\", \".\")\n",
    "\n",
    "Image(filename=\"./line_chart.png\")"
   ]
  }
 ],
 "metadata": {
  "kernelspec": {
   "display_name": "Python 3",
   "language": "python",
   "name": "python3"
  },
  "language_info": {
   "codemirror_mode": {
    "name": "ipython",
    "version": 3
   },
   "file_extension": ".py",
   "mimetype": "text/x-python",
   "name": "python",
   "nbconvert_exporter": "python",
   "pygments_lexer": "ipython3",
   "version": "3.8.8"
  }
 },
 "nbformat": 4,
 "nbformat_minor": 2
}
