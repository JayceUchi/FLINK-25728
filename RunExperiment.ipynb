{
 "cells": [
  {
   "cell_type": "markdown",
   "metadata": {},
   "source": [
    "### FLINK-25728 Reproduction\n",
    "---  \n",
    "#### Load Session Data"
   ]
  },
  {
   "cell_type": "code",
   "execution_count": null,
   "metadata": {
    "vscode": {
     "languageId": "plaintext"
    }
   },
   "outputs": [],
   "source": [
    "import scripts.session as session\n",
    "\n",
    "session_data = session.load()"
   ]
  },
  {
   "cell_type": "markdown",
   "metadata": {},
   "source": [
    "#### Copy the code repo to node\n"
   ]
  },
  {
   "cell_type": "code",
   "execution_count": null,
   "metadata": {
    "vscode": {
     "languageId": "plaintext"
    }
   },
   "outputs": [],
   "source": [
    "from chi import ssh\n",
    "import scripts.ssh_helper as ssh_helper"
   ]
  },
  {
   "cell_type": "code",
   "execution_count": null,
   "metadata": {
    "vscode": {
     "languageId": "plaintext"
    }
   },
   "outputs": [],
   "source": [
    "# put the trovi to node\n",
    "\n",
    "with ssh.Remote(session_data[\"floating_ip\"]) as conn:\n",
    "    conn.run('sudo mkdir -p /mnt/flink-exp; sudo chown $USER -R /mnt; cd /mnt/flink-exp; rm -rf /mnt/flink-exp/flink_bug_reproduce; mkdir -p /mnt/spark-exp; cd /mnt/flink-exp; git clone https://github.com/wpc009/flink.git; cd flink; git checkout FLINK-25728')"
   ]
  },
  {
   "cell_type": "markdown",
   "metadata": {},
   "source": [
    "#### Set up the Flink evironment"
   ]
  },
  {
   "cell_type": "code",
   "execution_count": null,
   "metadata": {
    "vscode": {
     "languageId": "plaintext"
    }
   },
   "outputs": [],
   "source": [
    "with ssh.Remote(session_data[\"floating_ip\"]) as conn:\n",
    "    conn.run('cd /mnt/flink-exp/flink; mvn clean compile -B -fn -DskipTests 2>&1 | tee build.log')"
   ]
  },
  {
   "cell_type": "markdown",
   "metadata": {},
   "source": [
    "You can see from the build log that the project fails to be built. Apart from build failure of other parts of the project, the most critical error of building the project occurs on the project \"Test Utils\" which prevents us from running any tests using methods from \"Test Utils\", including the test of this bug: MultipleInputStreamMemoryIssueTest and NaryInputTest. But this problem doesn't happen on the latest release of Flink system, because the dependencies of different projects are different."
   ]
  },
  {
   "cell_type": "markdown",
   "metadata": {},
   "source": [
    "For example, if we run the test MultipleInputStreamMemoryIssueTest, the test will fail because it cannot resolve dependencies:"
   ]
  },
  {
   "cell_type": "code",
   "execution_count": null,
   "metadata": {},
   "outputs": [],
   "source": [
    "with ssh.Remote(session_data[\"floating_ip\"]) as conn:\n",
    "    conn.run('cd /mnt/flink-exp/flink/flink-end-to-end-tests/flink-datastream-multiple-input-test; mvn test -Dtest=org.apache.flink.streaming.tests.MultipleInputStreamMemoryIssueTest -B -fn 2>&1 | tee single_test_multiple_input_build.log')"
   ]
  }
 ],
 "metadata": {
  "kernelspec": {
   "display_name": "Python 3",
   "language": "python",
   "name": "python3"
  },
  "language_info": {
   "codemirror_mode": {
    "name": "ipython",
    "version": 3
   },
   "file_extension": ".py",
   "mimetype": "text/x-python",
   "name": "python",
   "nbconvert_exporter": "python",
   "pygments_lexer": "ipython3",
   "version": "3.8.8"
  }
 },
 "nbformat": 4,
 "nbformat_minor": 2
}
